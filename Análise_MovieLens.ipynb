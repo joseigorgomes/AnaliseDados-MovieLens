{
  "nbformat": 4,
  "nbformat_minor": 0,
  "metadata": {
    "colab": {
      "name": "Análise MovieLens.ipynb",
      "provenance": []
    },
    "kernelspec": {
      "name": "python3",
      "display_name": "Python 3"
    },
    "language_info": {
      "name": "python"
    }
  },
  "cells": [
    {
      "cell_type": "code",
      "metadata": {
        "id": "JXz4HRNJfUmx"
      },
      "source": [
        "import pandas as pd\n",
        "\"\"\"\n",
        "movies_url = \"drive/MyDrive/MovieLens/movies.csv\"\n",
        "links_url = \"drive/MyDrive/MovieLens/links.csv\"\n",
        "ratings_url = \"drive/MyDrive/MovieLens/ratings.csv\"\n",
        "tags_url = \"drive/MyDrive/MovieLens/tags.csv\"\n",
        "\"\"\"\n",
        "\n",
        "movies_url = \"./dadosMovieLens/movies.csv\"\n",
        "links_url = \"./dadosMovieLens/links.csv\"\n",
        "ratings_url = \"./dadosMovieLens/ratings.csv\"\n",
        "tags_url = \"./dadosMovieLens/tags.csv\"\n",
        "\n",
        "movies = pd.read_csv(movies_url)\n",
        "links = pd.read_csv(links_url)\n",
        "ratings = pd.read_csv(ratings_url)\n",
        "tags = pd.read_csv(tags_url)"
      ],
      "execution_count": null,
      "outputs": []
    },
    {
      "cell_type": "markdown",
      "metadata": {
        "id": "P3O5bXHXig9y"
      },
      "source": [
        "Análises iniciais nos dados para conhecê-los:"
      ]
    },
    {
      "cell_type": "code",
      "metadata": {
        "colab": {
          "base_uri": "https://localhost:8080/",
          "height": 424
        },
        "id": "zkbF764giqCS",
        "outputId": "a5471ba2-899e-4106-c686-97675d54dec0"
      },
      "source": [
        "#Quantos filmes temos em mãos?\n",
        "\n",
        "movies.shape\n",
        "#9742 filmes"
      ],
      "execution_count": null,
      "outputs": [
        {
          "output_type": "execute_result",
          "data": {
            "text/html": [
              "<div>\n",
              "<style scoped>\n",
              "    .dataframe tbody tr th:only-of-type {\n",
              "        vertical-align: middle;\n",
              "    }\n",
              "\n",
              "    .dataframe tbody tr th {\n",
              "        vertical-align: top;\n",
              "    }\n",
              "\n",
              "    .dataframe thead th {\n",
              "        text-align: right;\n",
              "    }\n",
              "</style>\n",
              "<table border=\"1\" class=\"dataframe\">\n",
              "  <thead>\n",
              "    <tr style=\"text-align: right;\">\n",
              "      <th></th>\n",
              "      <th>userId</th>\n",
              "      <th>movieId</th>\n",
              "      <th>rating</th>\n",
              "      <th>timestamp</th>\n",
              "    </tr>\n",
              "  </thead>\n",
              "  <tbody>\n",
              "    <tr>\n",
              "      <th>0</th>\n",
              "      <td>1</td>\n",
              "      <td>1</td>\n",
              "      <td>4.0</td>\n",
              "      <td>964982703</td>\n",
              "    </tr>\n",
              "    <tr>\n",
              "      <th>1</th>\n",
              "      <td>1</td>\n",
              "      <td>3</td>\n",
              "      <td>4.0</td>\n",
              "      <td>964981247</td>\n",
              "    </tr>\n",
              "    <tr>\n",
              "      <th>2</th>\n",
              "      <td>1</td>\n",
              "      <td>6</td>\n",
              "      <td>4.0</td>\n",
              "      <td>964982224</td>\n",
              "    </tr>\n",
              "    <tr>\n",
              "      <th>3</th>\n",
              "      <td>1</td>\n",
              "      <td>47</td>\n",
              "      <td>5.0</td>\n",
              "      <td>964983815</td>\n",
              "    </tr>\n",
              "    <tr>\n",
              "      <th>4</th>\n",
              "      <td>1</td>\n",
              "      <td>50</td>\n",
              "      <td>5.0</td>\n",
              "      <td>964982931</td>\n",
              "    </tr>\n",
              "    <tr>\n",
              "      <th>...</th>\n",
              "      <td>...</td>\n",
              "      <td>...</td>\n",
              "      <td>...</td>\n",
              "      <td>...</td>\n",
              "    </tr>\n",
              "    <tr>\n",
              "      <th>100831</th>\n",
              "      <td>610</td>\n",
              "      <td>166534</td>\n",
              "      <td>4.0</td>\n",
              "      <td>1493848402</td>\n",
              "    </tr>\n",
              "    <tr>\n",
              "      <th>100832</th>\n",
              "      <td>610</td>\n",
              "      <td>168248</td>\n",
              "      <td>5.0</td>\n",
              "      <td>1493850091</td>\n",
              "    </tr>\n",
              "    <tr>\n",
              "      <th>100833</th>\n",
              "      <td>610</td>\n",
              "      <td>168250</td>\n",
              "      <td>5.0</td>\n",
              "      <td>1494273047</td>\n",
              "    </tr>\n",
              "    <tr>\n",
              "      <th>100834</th>\n",
              "      <td>610</td>\n",
              "      <td>168252</td>\n",
              "      <td>5.0</td>\n",
              "      <td>1493846352</td>\n",
              "    </tr>\n",
              "    <tr>\n",
              "      <th>100835</th>\n",
              "      <td>610</td>\n",
              "      <td>170875</td>\n",
              "      <td>3.0</td>\n",
              "      <td>1493846415</td>\n",
              "    </tr>\n",
              "  </tbody>\n",
              "</table>\n",
              "<p>100836 rows × 4 columns</p>\n",
              "</div>"
            ],
            "text/plain": [
              "        userId  movieId  rating   timestamp\n",
              "0            1        1     4.0   964982703\n",
              "1            1        3     4.0   964981247\n",
              "2            1        6     4.0   964982224\n",
              "3            1       47     5.0   964983815\n",
              "4            1       50     5.0   964982931\n",
              "...        ...      ...     ...         ...\n",
              "100831     610   166534     4.0  1493848402\n",
              "100832     610   168248     5.0  1493850091\n",
              "100833     610   168250     5.0  1494273047\n",
              "100834     610   168252     5.0  1493846352\n",
              "100835     610   170875     3.0  1493846415\n",
              "\n",
              "[100836 rows x 4 columns]"
            ]
          },
          "metadata": {
            "tags": []
          },
          "execution_count": 36
        }
      ]
    },
    {
      "cell_type": "code",
      "metadata": {
        "colab": {
          "base_uri": "https://localhost:8080/"
        },
        "id": "gkTWp22UkA9u",
        "outputId": "8d7b0e4b-e038-4fbd-aa2b-f0bd30da5d07"
      },
      "source": [
        "#Quantos usuários fizeram avaliações de filmes?\n",
        "len(ratings[\"userId\"].unique())\n",
        "#610 usuários"
      ],
      "execution_count": null,
      "outputs": [
        {
          "output_type": "execute_result",
          "data": {
            "text/plain": [
              "610"
            ]
          },
          "metadata": {
            "tags": []
          },
          "execution_count": 5
        }
      ]
    },
    {
      "cell_type": "code",
      "metadata": {
        "colab": {
          "base_uri": "https://localhost:8080/"
        },
        "id": "ydQcOegU_ljU",
        "outputId": "7ad99b03-2aa0-4a4c-9c91-7ee3e285aa13"
      },
      "source": [
        "#Quantos filmes receberam ao menos uma avaliação?\n",
        "len(ratings[\"movieId\"].unique())\n",
        "#Todos os 9724 filmes receberam avaliação"
      ],
      "execution_count": null,
      "outputs": [
        {
          "output_type": "execute_result",
          "data": {
            "text/plain": [
              "9724"
            ]
          },
          "metadata": {
            "tags": []
          },
          "execution_count": 6
        }
      ]
    },
    {
      "cell_type": "code",
      "metadata": {
        "colab": {
          "base_uri": "https://localhost:8080/"
        },
        "id": "iYZaq_k6_pfN",
        "outputId": "98012ace-f597-4308-b0fd-de77cc0c0069"
      },
      "source": [
        "#Quantas tags diferentes foram cadastradas na base de dados?\n",
        "len(tags[\"tag\"].unique())\n"
      ],
      "execution_count": null,
      "outputs": [
        {
          "output_type": "execute_result",
          "data": {
            "text/plain": [
              "1589"
            ]
          },
          "metadata": {
            "tags": []
          },
          "execution_count": 38
        }
      ]
    },
    {
      "cell_type": "markdown",
      "metadata": {
        "id": "BU_cPiBFAN3c"
      },
      "source": [
        "##Filmes mais frequentemente avaliados"
      ]
    },
    {
      "cell_type": "code",
      "metadata": {
        "colab": {
          "base_uri": "https://localhost:8080/"
        },
        "id": "ugW1rVgb_uMj",
        "outputId": "724217cc-a410-423c-de20-f2078f46f76d"
      },
      "source": [
        "#Filmes com maior número de avaliações\n",
        "ratings[\"movieId\"].value_counts()"
      ],
      "execution_count": null,
      "outputs": [
        {
          "output_type": "execute_result",
          "data": {
            "text/plain": [
              "356       329\n",
              "318       317\n",
              "296       307\n",
              "593       279\n",
              "2571      278\n",
              "         ... \n",
              "5986        1\n",
              "100304      1\n",
              "34800       1\n",
              "83976       1\n",
              "8196        1\n",
              "Name: movieId, Length: 9724, dtype: int64"
            ]
          },
          "metadata": {
            "tags": []
          },
          "execution_count": 16
        }
      ]
    },
    {
      "cell_type": "markdown",
      "metadata": {
        "id": "OxJNFBi2Atdn"
      },
      "source": [
        "Podemos ver que o filme que mais recebeu avaliações foi o filme cujo id é 356. Podemos pesquisar no dataframe de filmes quais seriam os títulos dos 5 filmes mais bem avaliados."
      ]
    },
    {
      "cell_type": "code",
      "metadata": {
        "colab": {
          "base_uri": "https://localhost:8080/",
          "height": 206
        },
        "id": "aaQDK88sBKwi",
        "outputId": "ede158ab-fee2-4b69-cc86-2df0b9f81230"
      },
      "source": [
        "filmes_mais_avaliados = ratings[\"movieId\"].value_counts()[:5]\n",
        "\n",
        "dados_filmes_mais_avaliados = movies.query(\"movieId in @filmes_mais_avaliados.index\")\n",
        "dados_filmes_mais_avaliados"
      ],
      "execution_count": null,
      "outputs": [
        {
          "output_type": "execute_result",
          "data": {
            "text/html": [
              "<div>\n",
              "<style scoped>\n",
              "    .dataframe tbody tr th:only-of-type {\n",
              "        vertical-align: middle;\n",
              "    }\n",
              "\n",
              "    .dataframe tbody tr th {\n",
              "        vertical-align: top;\n",
              "    }\n",
              "\n",
              "    .dataframe thead th {\n",
              "        text-align: right;\n",
              "    }\n",
              "</style>\n",
              "<table border=\"1\" class=\"dataframe\">\n",
              "  <thead>\n",
              "    <tr style=\"text-align: right;\">\n",
              "      <th></th>\n",
              "      <th>movieId</th>\n",
              "      <th>title</th>\n",
              "      <th>genres</th>\n",
              "    </tr>\n",
              "  </thead>\n",
              "  <tbody>\n",
              "    <tr>\n",
              "      <th>257</th>\n",
              "      <td>296</td>\n",
              "      <td>Pulp Fiction (1994)</td>\n",
              "      <td>Comedy|Crime|Drama|Thriller</td>\n",
              "    </tr>\n",
              "    <tr>\n",
              "      <th>277</th>\n",
              "      <td>318</td>\n",
              "      <td>Shawshank Redemption, The (1994)</td>\n",
              "      <td>Crime|Drama</td>\n",
              "    </tr>\n",
              "    <tr>\n",
              "      <th>314</th>\n",
              "      <td>356</td>\n",
              "      <td>Forrest Gump (1994)</td>\n",
              "      <td>Comedy|Drama|Romance|War</td>\n",
              "    </tr>\n",
              "    <tr>\n",
              "      <th>510</th>\n",
              "      <td>593</td>\n",
              "      <td>Silence of the Lambs, The (1991)</td>\n",
              "      <td>Crime|Horror|Thriller</td>\n",
              "    </tr>\n",
              "    <tr>\n",
              "      <th>1939</th>\n",
              "      <td>2571</td>\n",
              "      <td>Matrix, The (1999)</td>\n",
              "      <td>Action|Sci-Fi|Thriller</td>\n",
              "    </tr>\n",
              "  </tbody>\n",
              "</table>\n",
              "</div>"
            ],
            "text/plain": [
              "      movieId                             title                       genres\n",
              "257       296               Pulp Fiction (1994)  Comedy|Crime|Drama|Thriller\n",
              "277       318  Shawshank Redemption, The (1994)                  Crime|Drama\n",
              "314       356               Forrest Gump (1994)     Comedy|Drama|Romance|War\n",
              "510       593  Silence of the Lambs, The (1991)        Crime|Horror|Thriller\n",
              "1939     2571                Matrix, The (1999)       Action|Sci-Fi|Thriller"
            ]
          },
          "metadata": {
            "tags": []
          },
          "execution_count": 23
        }
      ]
    },
    {
      "cell_type": "markdown",
      "metadata": {
        "id": "q11crDM0CWyu"
      },
      "source": [
        "Selecionando todas as avaliações dos 5 filmes mais avaliados:"
      ]
    },
    {
      "cell_type": "code",
      "metadata": {
        "id": "ZICVqh-kCBGa"
      },
      "source": [
        "avaliacoes_filmes_mais_frequentes = ratings.query(\"movieId in @filmes_mais_avaliados.index\")"
      ],
      "execution_count": null,
      "outputs": []
    },
    {
      "cell_type": "markdown",
      "metadata": {
        "id": "zA8GL83aC3Tv"
      },
      "source": [
        "Juntando os dados dos filmes mais bem avaliados com as suas avaliações para que seja possível recuperar os nomes dos filmes a partir de cada uma das avaliações."
      ]
    },
    {
      "cell_type": "code",
      "metadata": {
        "colab": {
          "base_uri": "https://localhost:8080/",
          "height": 424
        },
        "id": "rJ9iQ2INDUY9",
        "outputId": "6eb4eb58-e983-4a34-ce94-3ae21b80f435"
      },
      "source": [
        "avaliacoes_filmes_mais_frequentes_merged = avaliacoes_filmes_mais_frequentes.merge(dados_filmes_mais_avaliados, on=\"movieId\")\n",
        "avaliacoes_filmes_mais_frequentes_merged"
      ],
      "execution_count": null,
      "outputs": [
        {
          "output_type": "execute_result",
          "data": {
            "text/html": [
              "<div>\n",
              "<style scoped>\n",
              "    .dataframe tbody tr th:only-of-type {\n",
              "        vertical-align: middle;\n",
              "    }\n",
              "\n",
              "    .dataframe tbody tr th {\n",
              "        vertical-align: top;\n",
              "    }\n",
              "\n",
              "    .dataframe thead th {\n",
              "        text-align: right;\n",
              "    }\n",
              "</style>\n",
              "<table border=\"1\" class=\"dataframe\">\n",
              "  <thead>\n",
              "    <tr style=\"text-align: right;\">\n",
              "      <th></th>\n",
              "      <th>userId</th>\n",
              "      <th>movieId</th>\n",
              "      <th>rating</th>\n",
              "      <th>timestamp</th>\n",
              "      <th>title</th>\n",
              "      <th>genres</th>\n",
              "    </tr>\n",
              "  </thead>\n",
              "  <tbody>\n",
              "    <tr>\n",
              "      <th>0</th>\n",
              "      <td>1</td>\n",
              "      <td>296</td>\n",
              "      <td>3.0</td>\n",
              "      <td>964982967</td>\n",
              "      <td>Pulp Fiction (1994)</td>\n",
              "      <td>Comedy|Crime|Drama|Thriller</td>\n",
              "    </tr>\n",
              "    <tr>\n",
              "      <th>1</th>\n",
              "      <td>4</td>\n",
              "      <td>296</td>\n",
              "      <td>1.0</td>\n",
              "      <td>945173350</td>\n",
              "      <td>Pulp Fiction (1994)</td>\n",
              "      <td>Comedy|Crime|Drama|Thriller</td>\n",
              "    </tr>\n",
              "    <tr>\n",
              "      <th>2</th>\n",
              "      <td>5</td>\n",
              "      <td>296</td>\n",
              "      <td>5.0</td>\n",
              "      <td>847434748</td>\n",
              "      <td>Pulp Fiction (1994)</td>\n",
              "      <td>Comedy|Crime|Drama|Thriller</td>\n",
              "    </tr>\n",
              "    <tr>\n",
              "      <th>3</th>\n",
              "      <td>6</td>\n",
              "      <td>296</td>\n",
              "      <td>2.0</td>\n",
              "      <td>845553110</td>\n",
              "      <td>Pulp Fiction (1994)</td>\n",
              "      <td>Comedy|Crime|Drama|Thriller</td>\n",
              "    </tr>\n",
              "    <tr>\n",
              "      <th>4</th>\n",
              "      <td>8</td>\n",
              "      <td>296</td>\n",
              "      <td>4.0</td>\n",
              "      <td>839463422</td>\n",
              "      <td>Pulp Fiction (1994)</td>\n",
              "      <td>Comedy|Crime|Drama|Thriller</td>\n",
              "    </tr>\n",
              "    <tr>\n",
              "      <th>...</th>\n",
              "      <td>...</td>\n",
              "      <td>...</td>\n",
              "      <td>...</td>\n",
              "      <td>...</td>\n",
              "      <td>...</td>\n",
              "      <td>...</td>\n",
              "    </tr>\n",
              "    <tr>\n",
              "      <th>1505</th>\n",
              "      <td>606</td>\n",
              "      <td>318</td>\n",
              "      <td>3.5</td>\n",
              "      <td>1171927228</td>\n",
              "      <td>Shawshank Redemption, The (1994)</td>\n",
              "      <td>Crime|Drama</td>\n",
              "    </tr>\n",
              "    <tr>\n",
              "      <th>1506</th>\n",
              "      <td>607</td>\n",
              "      <td>318</td>\n",
              "      <td>5.0</td>\n",
              "      <td>963080679</td>\n",
              "      <td>Shawshank Redemption, The (1994)</td>\n",
              "      <td>Crime|Drama</td>\n",
              "    </tr>\n",
              "    <tr>\n",
              "      <th>1507</th>\n",
              "      <td>608</td>\n",
              "      <td>318</td>\n",
              "      <td>4.5</td>\n",
              "      <td>1147210910</td>\n",
              "      <td>Shawshank Redemption, The (1994)</td>\n",
              "      <td>Crime|Drama</td>\n",
              "    </tr>\n",
              "    <tr>\n",
              "      <th>1508</th>\n",
              "      <td>609</td>\n",
              "      <td>318</td>\n",
              "      <td>4.0</td>\n",
              "      <td>847220907</td>\n",
              "      <td>Shawshank Redemption, The (1994)</td>\n",
              "      <td>Crime|Drama</td>\n",
              "    </tr>\n",
              "    <tr>\n",
              "      <th>1509</th>\n",
              "      <td>610</td>\n",
              "      <td>318</td>\n",
              "      <td>3.0</td>\n",
              "      <td>1479541963</td>\n",
              "      <td>Shawshank Redemption, The (1994)</td>\n",
              "      <td>Crime|Drama</td>\n",
              "    </tr>\n",
              "  </tbody>\n",
              "</table>\n",
              "<p>1510 rows × 6 columns</p>\n",
              "</div>"
            ],
            "text/plain": [
              "      userId  ...                       genres\n",
              "0          1  ...  Comedy|Crime|Drama|Thriller\n",
              "1          4  ...  Comedy|Crime|Drama|Thriller\n",
              "2          5  ...  Comedy|Crime|Drama|Thriller\n",
              "3          6  ...  Comedy|Crime|Drama|Thriller\n",
              "4          8  ...  Comedy|Crime|Drama|Thriller\n",
              "...      ...  ...                          ...\n",
              "1505     606  ...                  Crime|Drama\n",
              "1506     607  ...                  Crime|Drama\n",
              "1507     608  ...                  Crime|Drama\n",
              "1508     609  ...                  Crime|Drama\n",
              "1509     610  ...                  Crime|Drama\n",
              "\n",
              "[1510 rows x 6 columns]"
            ]
          },
          "metadata": {
            "tags": []
          },
          "execution_count": 32
        }
      ]
    },
    {
      "cell_type": "markdown",
      "metadata": {
        "id": "PCLv0DJFFBe-"
      },
      "source": [
        "Agora vejamos a série contendo os títulos e a quantidade de avaliações dos 5 filmes mais avaliados."
      ]
    },
    {
      "cell_type": "code",
      "metadata": {
        "colab": {
          "base_uri": "https://localhost:8080/"
        },
        "id": "i414Sl2bE-VL",
        "outputId": "d3930826-4c3a-4700-a124-d7cbd2399553"
      },
      "source": [
        "avaliacoes_filmes_mais_frequentes_merged[\"title\"].value_counts()"
      ],
      "execution_count": null,
      "outputs": [
        {
          "output_type": "execute_result",
          "data": {
            "text/plain": [
              "Forrest Gump (1994)                 329\n",
              "Shawshank Redemption, The (1994)    317\n",
              "Pulp Fiction (1994)                 307\n",
              "Silence of the Lambs, The (1991)    279\n",
              "Matrix, The (1999)                  278\n",
              "Name: title, dtype: int64"
            ]
          },
          "metadata": {
            "tags": []
          },
          "execution_count": 33
        }
      ]
    },
    {
      "cell_type": "markdown",
      "metadata": {
        "id": "lkvDqxJlFa8f"
      },
      "source": [
        "A partir da série podemos plotar o grafico:"
      ]
    },
    {
      "cell_type": "code",
      "metadata": {
        "colab": {
          "base_uri": "https://localhost:8080/",
          "height": 453
        },
        "id": "yocourHVFaYw",
        "outputId": "d3e1f7ec-7cc4-4d35-bf16-81b4d2c754d6"
      },
      "source": [
        "avaliacoes_filmes_mais_frequentes_merged[\"title\"].value_counts().plot.bar()"
      ],
      "execution_count": null,
      "outputs": [
        {
          "output_type": "execute_result",
          "data": {
            "text/plain": [
              "<matplotlib.axes._subplots.AxesSubplot at 0x7f03ccdca350>"
            ]
          },
          "metadata": {
            "tags": []
          },
          "execution_count": 34
        },
        {
          "output_type": "display_data",
          "data": {
            "image/png": "[encoded data removed]",
            "text/plain": [
              "<Figure size 432x288 with 1 Axes>"
            ]
          },
          "metadata": {
            "tags": [],
            "needs_background": "light"
          }
        }
      ]
    },
    {
      "cell_type": "markdown",
      "metadata": {
        "id": "S3sDK_C4OBXw"
      },
      "source": [
        "Qual a nota média de Forrest Gump?"
      ]
    },
    {
      "cell_type": "code",
      "metadata": {
        "colab": {
          "base_uri": "https://localhost:8080/"
        },
        "id": "VQyj5SjdGs4X",
        "outputId": "9d1a3963-5a35-43fc-f9e1-5803d9f98bef"
      },
      "source": [
        "avaliacoes_forrest_gump = avaliacoes_filmes_mais_frequentes_merged.query(\"movieId == 356\")\n",
        "avaliacoes_forrest_gump[\"rating\"].describe()\n",
        "avaliacoes_forrest_gump[\"rating\"].mean()"
      ],
      "execution_count": null,
      "outputs": [
        {
          "output_type": "execute_result",
          "data": {
            "text/plain": [
              "4.164133738601824"
            ]
          },
          "metadata": {
            "tags": []
          },
          "execution_count": 49
        }
      ]
    }
  ]
}